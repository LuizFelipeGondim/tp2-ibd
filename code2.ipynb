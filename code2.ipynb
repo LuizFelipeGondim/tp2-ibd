{
 "cells": [
  {
   "cell_type": "code",
   "execution_count": 1,
   "id": "720a074f-b8b6-403f-bea8-80c70aa8908e",
   "metadata": {},
   "outputs": [],
   "source": [
    "import sqlite3\n",
    "import pandas as pd\n",
    "import io"
   ]
  },
  {
   "cell_type": "code",
   "execution_count": 2,
   "id": "9304935e-2e86-47c6-b7f2-62537abf71be",
   "metadata": {},
   "outputs": [],
   "source": [
    "with open(\"database.sql\", \"r\") as file:\n",
    "    sql_script = file.read()\n",
    "\n",
    "connection = sqlite3.connect(\":memory:\")\n",
    "\n",
    "with connection:\n",
    "    connection.executescript(sql_script)"
   ]
  },
  {
   "cell_type": "code",
   "execution_count": 3,
   "id": "73dff14d-5a8e-4f1a-9bc4-1b38330997e0",
   "metadata": {},
   "outputs": [
    {
     "data": {
      "text/html": [
       "<div>\n",
       "<style scoped>\n",
       "    .dataframe tbody tr th:only-of-type {\n",
       "        vertical-align: middle;\n",
       "    }\n",
       "\n",
       "    .dataframe tbody tr th {\n",
       "        vertical-align: top;\n",
       "    }\n",
       "\n",
       "    .dataframe thead th {\n",
       "        text-align: right;\n",
       "    }\n",
       "</style>\n",
       "<table border=\"1\" class=\"dataframe\">\n",
       "  <thead>\n",
       "    <tr style=\"text-align: right;\">\n",
       "      <th></th>\n",
       "      <th>id_companhia_aerea</th>\n",
       "      <th>nome_companhia</th>\n",
       "      <th>regra_tarifaria</th>\n",
       "    </tr>\n",
       "  </thead>\n",
       "  <tbody>\n",
       "    <tr>\n",
       "      <th>0</th>\n",
       "      <td>1</td>\n",
       "      <td>LATAM AIRLINES BRASIL</td>\n",
       "      <td>None</td>\n",
       "    </tr>\n",
       "    <tr>\n",
       "      <th>1</th>\n",
       "      <td>2</td>\n",
       "      <td>GOL Linhas Aéreas Inteligentes</td>\n",
       "      <td>https://www.voegol.com.br/pt/informacoes/tarifas</td>\n",
       "    </tr>\n",
       "    <tr>\n",
       "      <th>2</th>\n",
       "      <td>3</td>\n",
       "      <td>AZUL LINHAS AÉREAS BRASILEIRA</td>\n",
       "      <td>https://www.voeazul.com.br/para-sua-viagem/inf...</td>\n",
       "    </tr>\n",
       "  </tbody>\n",
       "</table>\n",
       "</div>"
      ],
      "text/plain": [
       "   id_companhia_aerea                  nome_companhia  \\\n",
       "0                   1           LATAM AIRLINES BRASIL   \n",
       "1                   2  GOL Linhas Aéreas Inteligentes   \n",
       "2                   3   AZUL LINHAS AÉREAS BRASILEIRA   \n",
       "\n",
       "                                     regra_tarifaria  \n",
       "0                                               None  \n",
       "1   https://www.voegol.com.br/pt/informacoes/tarifas  \n",
       "2  https://www.voeazul.com.br/para-sua-viagem/inf...  "
      ]
     },
     "execution_count": 3,
     "metadata": {},
     "output_type": "execute_result"
    }
   ],
   "source": [
    "query = \"\"\"\n",
    "            SELECT * \n",
    "            FROM companhia_aerea\n",
    "        \"\"\"\n",
    "\n",
    "df = pd.read_sql_query(query, connection)\n",
    "df"
   ]
  },
  {
   "cell_type": "markdown",
   "id": "8dffc12c-bea0-48f7-b0a3-5f6a9fd65b26",
   "metadata": {},
   "source": [
    "## Consulta 1: Órgão que comprou o bilhete mais caro gerado pela LATAM"
   ]
  },
  {
   "cell_type": "code",
   "execution_count": 4,
   "id": "91d285aa-8cd2-4da6-9f7a-5b1e989f2721",
   "metadata": {},
   "outputs": [
    {
     "data": {
      "text/html": [
       "<div>\n",
       "<style scoped>\n",
       "    .dataframe tbody tr th:only-of-type {\n",
       "        vertical-align: middle;\n",
       "    }\n",
       "\n",
       "    .dataframe tbody tr th {\n",
       "        vertical-align: top;\n",
       "    }\n",
       "\n",
       "    .dataframe thead th {\n",
       "        text-align: right;\n",
       "    }\n",
       "</style>\n",
       "<table border=\"1\" class=\"dataframe\">\n",
       "  <thead>\n",
       "    <tr style=\"text-align: right;\">\n",
       "      <th></th>\n",
       "      <th>codigo_orgao</th>\n",
       "      <th>nome_orgao</th>\n",
       "      <th>valor_bilhete</th>\n",
       "    </tr>\n",
       "  </thead>\n",
       "  <tbody>\n",
       "    <tr>\n",
       "      <th>0</th>\n",
       "      <td>78055</td>\n",
       "      <td>Secretaria Especial de Articulação e Monitoram...</td>\n",
       "      <td>5847.14</td>\n",
       "    </tr>\n",
       "  </tbody>\n",
       "</table>\n",
       "</div>"
      ],
      "text/plain": [
       "   codigo_orgao                                         nome_orgao  \\\n",
       "0         78055  Secretaria Especial de Articulação e Monitoram...   \n",
       "\n",
       "   valor_bilhete  \n",
       "0        5847.14  "
      ]
     },
     "execution_count": 4,
     "metadata": {},
     "output_type": "execute_result"
    }
   ],
   "source": [
    "query = \"\"\"\n",
    "            SELECT DISTINCT codigo_orgao, nome_orgao, valor_bilhete\n",
    "            FROM orgao\n",
    "            NATURAL JOIN orgao_bilhete\n",
    "            NATURAL JOIN bilhete\n",
    "            NATURAL JOIN companhia_aerea\n",
    "            WHERE nome_companhia == \"LATAM AIRLINES BRASIL\"\n",
    "            ORDER BY\n",
    "                valor_bilhete DESC\n",
    "            LIMIT 1\n",
    "            \n",
    "        \"\"\"\n",
    "\n",
    "df = pd.read_sql_query(query, connection)\n",
    "df"
   ]
  },
  {
   "cell_type": "markdown",
   "id": "ea39733b",
   "metadata": {},
   "source": [
    "## Consulta 2: Aviões que tem mais de 200 assentos"
   ]
  },
  {
   "cell_type": "code",
   "execution_count": 6,
   "id": "15183e2e",
   "metadata": {},
   "outputs": [
    {
     "data": {
      "text/html": [
       "<div>\n",
       "<style scoped>\n",
       "    .dataframe tbody tr th:only-of-type {\n",
       "        vertical-align: middle;\n",
       "    }\n",
       "\n",
       "    .dataframe tbody tr th {\n",
       "        vertical-align: top;\n",
       "    }\n",
       "\n",
       "    .dataframe thead th {\n",
       "        text-align: right;\n",
       "    }\n",
       "</style>\n",
       "<table border=\"1\" class=\"dataframe\">\n",
       "  <thead>\n",
       "    <tr style=\"text-align: right;\">\n",
       "      <th></th>\n",
       "      <th>id_aviao</th>\n",
       "      <th>modelo</th>\n",
       "    </tr>\n",
       "  </thead>\n",
       "  <tbody>\n",
       "    <tr>\n",
       "      <th>0</th>\n",
       "      <td>4</td>\n",
       "      <td>Airbus A321</td>\n",
       "    </tr>\n",
       "    <tr>\n",
       "      <th>1</th>\n",
       "      <td>5</td>\n",
       "      <td>Airbus A321neo</td>\n",
       "    </tr>\n",
       "    <tr>\n",
       "      <th>2</th>\n",
       "      <td>6</td>\n",
       "      <td>Airbus A330-200</td>\n",
       "    </tr>\n",
       "    <tr>\n",
       "      <th>3</th>\n",
       "      <td>7</td>\n",
       "      <td>Airbus A330-900</td>\n",
       "    </tr>\n",
       "    <tr>\n",
       "      <th>4</th>\n",
       "      <td>15</td>\n",
       "      <td>Boeing 777-300ER</td>\n",
       "    </tr>\n",
       "    <tr>\n",
       "      <th>5</th>\n",
       "      <td>16</td>\n",
       "      <td>Boeing 787-9</td>\n",
       "    </tr>\n",
       "  </tbody>\n",
       "</table>\n",
       "</div>"
      ],
      "text/plain": [
       "   id_aviao            modelo\n",
       "0         4       Airbus A321\n",
       "1         5    Airbus A321neo\n",
       "2         6   Airbus A330-200\n",
       "3         7   Airbus A330-900\n",
       "4        15  Boeing 777-300ER\n",
       "5        16      Boeing 787-9"
      ]
     },
     "execution_count": 6,
     "metadata": {},
     "output_type": "execute_result"
    }
   ],
   "source": [
    "query = \"\"\"\n",
    "            SELECT DISTINCT id_aviao, modelo\n",
    "            FROM aviao\n",
    "            WHERE assentos > 200\n",
    "            \n",
    "        \"\"\"\n",
    "\n",
    "df = pd.read_sql_query(query, connection)\n",
    "df"
   ]
  },
  {
   "cell_type": "markdown",
   "id": "16b110fb",
   "metadata": {},
   "source": [
    "## Consulta 3: Companhias aereas que não possuem nenhum avião com o selo B da anac\n"
   ]
  },
  {
   "cell_type": "code",
   "execution_count": 15,
   "id": "dc334bd3",
   "metadata": {},
   "outputs": [
    {
     "data": {
      "text/html": [
       "<div>\n",
       "<style scoped>\n",
       "    .dataframe tbody tr th:only-of-type {\n",
       "        vertical-align: middle;\n",
       "    }\n",
       "\n",
       "    .dataframe tbody tr th {\n",
       "        vertical-align: top;\n",
       "    }\n",
       "\n",
       "    .dataframe thead th {\n",
       "        text-align: right;\n",
       "    }\n",
       "</style>\n",
       "<table border=\"1\" class=\"dataframe\">\n",
       "  <thead>\n",
       "    <tr style=\"text-align: right;\">\n",
       "      <th></th>\n",
       "      <th>id_companhia_aerea</th>\n",
       "    </tr>\n",
       "  </thead>\n",
       "  <tbody>\n",
       "    <tr>\n",
       "      <th>0</th>\n",
       "      <td>2</td>\n",
       "    </tr>\n",
       "  </tbody>\n",
       "</table>\n",
       "</div>"
      ],
      "text/plain": [
       "   id_companhia_aerea\n",
       "0                   2"
      ]
     },
     "execution_count": 15,
     "metadata": {},
     "output_type": "execute_result"
    }
   ],
   "source": [
    "query = \"\"\"\n",
    "            SELECT DISTINCT id_companhia_aerea\n",
    "            FROM companhia_aerea_aviao\n",
    "            WHERE id_companhia_aerea NOT IN (\n",
    "                SELECT id_companhia_aerea\n",
    "                FROM companhia_aerea_aviao\n",
    "                NATURAL JOIN aviao\n",
    "                WHERE selo_anac = \"B\")\n",
    "            \n",
    "        \"\"\"\n",
    "\n",
    "df = pd.read_sql_query(query, connection)\n",
    "df"
   ]
  },
  {
   "cell_type": "markdown",
   "id": "52a02533",
   "metadata": {},
   "source": [
    "## Consulta 4: Orgão cuja soma das multas com bilhetes aéreos é maior"
   ]
  },
  {
   "cell_type": "code",
   "execution_count": 47,
   "id": "fa0bc4cc",
   "metadata": {},
   "outputs": [
    {
     "data": {
      "text/html": [
       "<div>\n",
       "<style scoped>\n",
       "    .dataframe tbody tr th:only-of-type {\n",
       "        vertical-align: middle;\n",
       "    }\n",
       "\n",
       "    .dataframe tbody tr th {\n",
       "        vertical-align: top;\n",
       "    }\n",
       "\n",
       "    .dataframe thead th {\n",
       "        text-align: right;\n",
       "    }\n",
       "</style>\n",
       "<table border=\"1\" class=\"dataframe\">\n",
       "  <thead>\n",
       "    <tr style=\"text-align: right;\">\n",
       "      <th></th>\n",
       "      <th>codigo_orgao</th>\n",
       "      <th>nome_orgao</th>\n",
       "      <th>soma_das_multas</th>\n",
       "    </tr>\n",
       "  </thead>\n",
       "  <tbody>\n",
       "    <tr>\n",
       "      <th>0</th>\n",
       "      <td>70352</td>\n",
       "      <td>Secretaria-Geral de Administração</td>\n",
       "      <td>9562.89</td>\n",
       "    </tr>\n",
       "  </tbody>\n",
       "</table>\n",
       "</div>"
      ],
      "text/plain": [
       "   codigo_orgao                         nome_orgao  soma_das_multas\n",
       "0         70352  Secretaria-Geral de Administração          9562.89"
      ]
     },
     "execution_count": 47,
     "metadata": {},
     "output_type": "execute_result"
    }
   ],
   "source": [
    "query = \"\"\"\n",
    "            SELECT DISTINCT codigo_orgao, nome_orgao, SUM(valor_multas) as soma_das_multas\n",
    "            FROM orgao\n",
    "            NATURAL JOIN orgao_bilhete\n",
    "            NATURAL JOIN bilhete\n",
    "            WHERE valor_multas > 0 \n",
    "            GROUP BY codigo_orgao, nome_orgao\n",
    "            ORDER BY soma_das_multas desc\n",
    "            LIMIT 1\n",
    "            \n",
    "        \"\"\"\n",
    "\n",
    "df = pd.read_sql_query(query, connection)\n",
    "df"
   ]
  },
  {
   "cell_type": "markdown",
   "id": "d0b493ff",
   "metadata": {},
   "source": [
    "## Consulta 5: Órgão que não comprou bilhetes aéreos"
   ]
  },
  {
   "cell_type": "code",
   "execution_count": 50,
   "id": "af4adb43",
   "metadata": {},
   "outputs": [
    {
     "data": {
      "text/html": [
       "<div>\n",
       "<style scoped>\n",
       "    .dataframe tbody tr th:only-of-type {\n",
       "        vertical-align: middle;\n",
       "    }\n",
       "\n",
       "    .dataframe tbody tr th {\n",
       "        vertical-align: top;\n",
       "    }\n",
       "\n",
       "    .dataframe thead th {\n",
       "        text-align: right;\n",
       "    }\n",
       "</style>\n",
       "<table border=\"1\" class=\"dataframe\">\n",
       "  <thead>\n",
       "    <tr style=\"text-align: right;\">\n",
       "      <th></th>\n",
       "      <th>codigo_orgao</th>\n",
       "      <th>nome_orgao</th>\n",
       "    </tr>\n",
       "  </thead>\n",
       "  <tbody>\n",
       "    <tr>\n",
       "      <th>0</th>\n",
       "      <td>26</td>\n",
       "      <td>Presidência da República</td>\n",
       "    </tr>\n",
       "    <tr>\n",
       "      <th>1</th>\n",
       "      <td>27</td>\n",
       "      <td>Gabinete de Segurança Institucional da Presidê...</td>\n",
       "    </tr>\n",
       "    <tr>\n",
       "      <th>2</th>\n",
       "      <td>46</td>\n",
       "      <td>Advocacia-Geral da União</td>\n",
       "    </tr>\n",
       "    <tr>\n",
       "      <th>3</th>\n",
       "      <td>2837</td>\n",
       "      <td>Casa Civil da Presidência da República</td>\n",
       "    </tr>\n",
       "    <tr>\n",
       "      <th>4</th>\n",
       "      <td>42673</td>\n",
       "      <td>Secretaria de Relações Institucionais</td>\n",
       "    </tr>\n",
       "    <tr>\n",
       "      <th>5</th>\n",
       "      <td>264359</td>\n",
       "      <td>Ministério das Comunicações</td>\n",
       "    </tr>\n",
       "    <tr>\n",
       "      <th>6</th>\n",
       "      <td>308798</td>\n",
       "      <td>Ministério das Cidades</td>\n",
       "    </tr>\n",
       "    <tr>\n",
       "      <th>7</th>\n",
       "      <td>308799</td>\n",
       "      <td>Ministério da Integração e do Desenvolvimento ...</td>\n",
       "    </tr>\n",
       "    <tr>\n",
       "      <th>8</th>\n",
       "      <td>308800</td>\n",
       "      <td>Ministério da Fazenda</td>\n",
       "    </tr>\n",
       "    <tr>\n",
       "      <th>9</th>\n",
       "      <td>308803</td>\n",
       "      <td>Ministério da Gestão e da Inovação em Serviços...</td>\n",
       "    </tr>\n",
       "    <tr>\n",
       "      <th>10</th>\n",
       "      <td>308816</td>\n",
       "      <td>Ministério dos Direitos Humanos e da Cidadania</td>\n",
       "    </tr>\n",
       "  </tbody>\n",
       "</table>\n",
       "</div>"
      ],
      "text/plain": [
       "    codigo_orgao                                         nome_orgao\n",
       "0             26                           Presidência da República\n",
       "1             27  Gabinete de Segurança Institucional da Presidê...\n",
       "2             46                           Advocacia-Geral da União\n",
       "3           2837             Casa Civil da Presidência da República\n",
       "4          42673              Secretaria de Relações Institucionais\n",
       "5         264359                        Ministério das Comunicações\n",
       "6         308798                             Ministério das Cidades\n",
       "7         308799  Ministério da Integração e do Desenvolvimento ...\n",
       "8         308800                              Ministério da Fazenda\n",
       "9         308803  Ministério da Gestão e da Inovação em Serviços...\n",
       "10        308816     Ministério dos Direitos Humanos e da Cidadania"
      ]
     },
     "execution_count": 50,
     "metadata": {},
     "output_type": "execute_result"
    }
   ],
   "source": [
    "query = \"\"\"\n",
    "            SELECT codigo_orgao, nome_orgao\n",
    "            FROM orgao\n",
    "            WHERE codigo_orgao NOT IN (\n",
    "                SELECT codigo_orgao\n",
    "                FROM orgao\n",
    "                NATURAL JOIN orgao_bilhete\n",
    "            )\n",
    "            \n",
    "        \"\"\"\n",
    "\n",
    "df = pd.read_sql_query(query, connection)\n",
    "df"
   ]
  },
  {
   "cell_type": "code",
   "execution_count": null,
   "id": "18ab0c6b",
   "metadata": {},
   "outputs": [],
   "source": []
  }
 ],
 "metadata": {
  "kernelspec": {
   "display_name": "Python 3 (ipykernel)",
   "language": "python",
   "name": "python3"
  },
  "language_info": {
   "codemirror_mode": {
    "name": "ipython",
    "version": 3
   },
   "file_extension": ".py",
   "mimetype": "text/x-python",
   "name": "python",
   "nbconvert_exporter": "python",
   "pygments_lexer": "ipython3",
   "version": "3.10.12"
  }
 },
 "nbformat": 4,
 "nbformat_minor": 5
}
