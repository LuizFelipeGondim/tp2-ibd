{
 "cells": [
  {
   "cell_type": "code",
   "execution_count": 21,
   "id": "720a074f-b8b6-403f-bea8-80c70aa8908e",
   "metadata": {},
   "outputs": [],
   "source": [
    "import sqlite3\n",
    "import pandas as pd\n",
    "import io"
   ]
  },
  {
   "cell_type": "code",
   "execution_count": 22,
   "id": "9304935e-2e86-47c6-b7f2-62537abf71be",
   "metadata": {},
   "outputs": [],
   "source": [
    "with open(\"database.sql\", \"r\") as file:\n",
    "    sql_script = file.read()\n",
    "\n",
    "connection = sqlite3.connect(\":memory:\")\n",
    "\n",
    "with connection:\n",
    "    connection.executescript(sql_script)"
   ]
  },
  {
   "cell_type": "code",
   "execution_count": 20,
   "id": "73dff14d-5a8e-4f1a-9bc4-1b38330997e0",
   "metadata": {},
   "outputs": [
    {
     "data": {
      "text/html": [
       "<div>\n",
       "<style scoped>\n",
       "    .dataframe tbody tr th:only-of-type {\n",
       "        vertical-align: middle;\n",
       "    }\n",
       "\n",
       "    .dataframe tbody tr th {\n",
       "        vertical-align: top;\n",
       "    }\n",
       "\n",
       "    .dataframe thead th {\n",
       "        text-align: right;\n",
       "    }\n",
       "</style>\n",
       "<table border=\"1\" class=\"dataframe\">\n",
       "  <thead>\n",
       "    <tr style=\"text-align: right;\">\n",
       "      <th></th>\n",
       "      <th>id_companhia_aerea</th>\n",
       "      <th>nome_companhia</th>\n",
       "      <th>regra_tarifaria</th>\n",
       "    </tr>\n",
       "  </thead>\n",
       "  <tbody>\n",
       "    <tr>\n",
       "      <th>0</th>\n",
       "      <td>1</td>\n",
       "      <td>LATAM AIRLINES BRASIL</td>\n",
       "      <td>None</td>\n",
       "    </tr>\n",
       "    <tr>\n",
       "      <th>1</th>\n",
       "      <td>2</td>\n",
       "      <td>GOL Linhas Aéreas Inteligentes</td>\n",
       "      <td>https://www.voegol.com.br/pt/informacoes/tarifas</td>\n",
       "    </tr>\n",
       "    <tr>\n",
       "      <th>2</th>\n",
       "      <td>3</td>\n",
       "      <td>AZUL LINHAS AÉREAS BRASILEIRA</td>\n",
       "      <td>https://www.voeazul.com.br/para-sua-viagem/inf...</td>\n",
       "    </tr>\n",
       "  </tbody>\n",
       "</table>\n",
       "</div>"
      ],
      "text/plain": [
       "   id_companhia_aerea                  nome_companhia  \\\n",
       "0                   1           LATAM AIRLINES BRASIL   \n",
       "1                   2  GOL Linhas Aéreas Inteligentes   \n",
       "2                   3   AZUL LINHAS AÉREAS BRASILEIRA   \n",
       "\n",
       "                                     regra_tarifaria  \n",
       "0                                               None  \n",
       "1   https://www.voegol.com.br/pt/informacoes/tarifas  \n",
       "2  https://www.voeazul.com.br/para-sua-viagem/inf...  "
      ]
     },
     "execution_count": 20,
     "metadata": {},
     "output_type": "execute_result"
    }
   ],
   "source": [
    "query = \"\"\"\n",
    "            SELECT * \n",
    "            FROM companhia_aerea\n",
    "        \"\"\"\n",
    "\n",
    "df = pd.read_sql_query(query, connection)\n",
    "df"
   ]
  },
  {
   "cell_type": "code",
   "execution_count": null,
   "id": "ec594871-e08f-4322-8c19-d4728d0c7be1",
   "metadata": {},
   "outputs": [],
   "source": []
  }
 ],
 "metadata": {
  "kernelspec": {
   "display_name": "Python 3 (ipykernel)",
   "language": "python",
   "name": "python3"
  },
  "language_info": {
   "codemirror_mode": {
    "name": "ipython",
    "version": 3
   },
   "file_extension": ".py",
   "mimetype": "text/x-python",
   "name": "python",
   "nbconvert_exporter": "python",
   "pygments_lexer": "ipython3",
   "version": "3.10.12"
  }
 },
 "nbformat": 4,
 "nbformat_minor": 5
}
